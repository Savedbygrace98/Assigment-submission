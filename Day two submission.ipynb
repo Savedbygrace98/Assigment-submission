{
 "cells": [
  {
   "cell_type": "code",
   "execution_count": 12,
   "id": "af76a970",
   "metadata": {},
   "outputs": [],
   "source": [
    "# Create 2 list with some brand names\n",
    "\n",
    "list_1 = [\"Oberlo\", \"Shopify\", \"WebHostingGeeks\", \"Freshbooks\"] \n",
    "\n",
    "list_2 = [\"Wordlab\", \"Freshbooks\", \"Getsocio\", \"WebHostingGeeks\"] "
   ]
  },
  {
   "cell_type": "code",
   "execution_count": 16,
   "id": "9d23574b",
   "metadata": {},
   "outputs": [
    {
     "name": "stdout",
     "output_type": "stream",
     "text": [
      "['WebHostingGeeks', 'Freshbooks']\n"
     ]
    }
   ],
   "source": [
    "# List of overlapping brand names in both lists\n",
    "\n",
    "list_3 = [e for e in list_1 if e in list_2]\n",
    "print(list_3)\n",
    "    "
   ]
  },
  {
   "cell_type": "code",
   "execution_count": 10,
   "id": "4fad2f55",
   "metadata": {},
   "outputs": [
    {
     "name": "stdout",
     "output_type": "stream",
     "text": [
      "20\n",
      "22\n",
      "24\n",
      "26\n",
      "28\n",
      "30\n",
      "32\n",
      "34\n",
      "36\n",
      "38\n",
      "40\n"
     ]
    }
   ],
   "source": [
    "# Print even numbers starting with 20 and ending with 40\n",
    "\n",
    "for i in range(20, 41, 2):\n",
    "    print(i)"
   ]
  }
 ],
 "metadata": {
  "kernelspec": {
   "display_name": "Python 3",
   "language": "python",
   "name": "python3"
  },
  "language_info": {
   "codemirror_mode": {
    "name": "ipython",
    "version": 3
   },
   "file_extension": ".py",
   "mimetype": "text/x-python",
   "name": "python",
   "nbconvert_exporter": "python",
   "pygments_lexer": "ipython3",
   "version": "3.9.4"
  }
 },
 "nbformat": 4,
 "nbformat_minor": 5
}
